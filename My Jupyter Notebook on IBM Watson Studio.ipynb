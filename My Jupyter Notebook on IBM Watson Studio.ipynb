{
  "metadata": {
    "colab": {
      "provenance": []
    },
    "kernelspec": {
      "name": "python",
      "display_name": "Python (Pyodide)",
      "language": "python"
    },
    "language_info": {
      "codemirror_mode": {
        "name": "python",
        "version": 3
      },
      "file_extension": ".py",
      "mimetype": "text/x-python",
      "name": "python",
      "nbconvert_exporter": "python",
      "pygments_lexer": "ipython3",
      "version": "3.8"
    }
  },
  "nbformat_minor": 4,
  "nbformat": 4,
  "cells": [
    {
      "cell_type": "code",
      "source": "My Jupyter Notebook on IBM Watson Studio",
      "metadata": {},
      "execution_count": null,
      "outputs": []
    },
    {
      "cell_type": "code",
      "source": "Hassan Sultan Sheikh",
      "metadata": {},
      "execution_count": null,
      "outputs": []
    },
    {
      "cell_type": "code",
      "source": "I have applied 3 algorithms on Rain dataset and predicted chances of rain.",
      "metadata": {},
      "execution_count": null,
      "outputs": []
    },
    {
      "cell_type": "code",
      "source": "The accuracies are compared for each algorithm in form of barchart.",
      "metadata": {},
      "execution_count": null,
      "outputs": []
    },
    {
      "cell_type": "code",
      "source": "#importing libraries\nimport pandas as pd\nfrom sklearn.preprocessing import LabelEncoder\nfrom sklearn.model_selection import train_test_split as tts\nfrom yellowbrick.target import ClassBalance\nimport sklearn.metrics as metrics\nimport matplotlib.pyplot as plt\n\ndata = pd.read_csv('Rain_Prediction.csv')\n\nle = LabelEncoder()\ndata.head()",
      "metadata": {
        "colab": {
          "base_uri": "https://localhost:8080/",
          "height": 317
        },
        "id": "B84tsr9XkjL5",
        "outputId": "6cc19071-6119-4b35-dc6d-e1e168907245",
        "tags": []
      },
      "execution_count": null,
      "outputs": [
        {
          "output_type": "execute_result",
          "execution_count": 1,
          "data": {
            "text/plain": [
              "  Location  MinTemp  MaxTemp  Rainfall  Evaporation  Sunshine WindGustDir  \\\n",
              "0   Albury     12.9     25.7       0.0     5.489715  7.647831         WSW   \n",
              "1   Albury      9.2     28.0       0.0     5.489715  7.647831          NE   \n",
              "2   Albury     14.3     25.0       0.0     5.489715  7.647831           W   \n",
              "3   Albury      9.7     31.9       0.0     5.489715  7.647831         NNW   \n",
              "4   Albury     15.9     18.6      15.6     5.489715  7.647831           W   \n",
              "\n",
              "   WindGustSpeed WindDir9am WindDir3pm  ...  Humidity9am  Humidity3pm  \\\n",
              "0           46.0          W        WSW  ...         38.0         30.0   \n",
              "1           24.0         SE          E  ...         45.0         16.0   \n",
              "2           50.0         SW          W  ...         49.0         19.0   \n",
              "3           80.0         SE         NW  ...         42.0          9.0   \n",
              "4           61.0        NNW        NNW  ...         76.0         93.0   \n",
              "\n",
              "   Pressure9am  Pressure3pm  Cloud9am  Cloud3pm  Temp9am  Temp3pm  RainToday  \\\n",
              "0       1007.6       1008.7  4.412041  2.000000     21.0     23.2          0   \n",
              "1       1017.6       1012.8  4.412041  4.466054     18.1     26.5          0   \n",
              "2       1009.6       1008.2  1.000000  4.466054     18.1     24.6          0   \n",
              "3       1008.9       1003.6  4.412041  4.466054     18.3     30.2          0   \n",
              "4        994.3        993.0  8.000000  8.000000     17.4     15.8          1   \n",
              "\n",
              "   Predict-RainTomorrow  \n",
              "0                     0  \n",
              "1                     0  \n",
              "2                     0  \n",
              "3                     0  \n",
              "4                     1  \n",
              "\n",
              "[5 rows x 22 columns]"
            ],
            "text/html": [
              "\n",
              "  <div id=\"df-629c9575-3eea-4f90-9e20-d039dc8dcfe1\">\n",
              "    <div class=\"colab-df-container\">\n",
              "      <div>\n",
              "<style scoped>\n",
              "    .dataframe tbody tr th:only-of-type {\n",
              "        vertical-align: middle;\n",
              "    }\n",
              "\n",
              "    .dataframe tbody tr th {\n",
              "        vertical-align: top;\n",
              "    }\n",
              "\n",
              "    .dataframe thead th {\n",
              "        text-align: right;\n",
              "    }\n",
              "</style>\n",
              "<table border=\"1\" class=\"dataframe\">\n",
              "  <thead>\n",
              "    <tr style=\"text-align: right;\">\n",
              "      <th></th>\n",
              "      <th>Location</th>\n",
              "      <th>MinTemp</th>\n",
              "      <th>MaxTemp</th>\n",
              "      <th>Rainfall</th>\n",
              "      <th>Evaporation</th>\n",
              "      <th>Sunshine</th>\n",
              "      <th>WindGustDir</th>\n",
              "      <th>WindGustSpeed</th>\n",
              "      <th>WindDir9am</th>\n",
              "      <th>WindDir3pm</th>\n",
              "      <th>...</th>\n",
              "      <th>Humidity9am</th>\n",
              "      <th>Humidity3pm</th>\n",
              "      <th>Pressure9am</th>\n",
              "      <th>Pressure3pm</th>\n",
              "      <th>Cloud9am</th>\n",
              "      <th>Cloud3pm</th>\n",
              "      <th>Temp9am</th>\n",
              "      <th>Temp3pm</th>\n",
              "      <th>RainToday</th>\n",
              "      <th>Predict-RainTomorrow</th>\n",
              "    </tr>\n",
              "  </thead>\n",
              "  <tbody>\n",
              "    <tr>\n",
              "      <th>0</th>\n",
              "      <td>Albury</td>\n",
              "      <td>12.9</td>\n",
              "      <td>25.7</td>\n",
              "      <td>0.0</td>\n",
              "      <td>5.489715</td>\n",
              "      <td>7.647831</td>\n",
              "      <td>WSW</td>\n",
              "      <td>46.0</td>\n",
              "      <td>W</td>\n",
              "      <td>WSW</td>\n",
              "      <td>...</td>\n",
              "      <td>38.0</td>\n",
              "      <td>30.0</td>\n",
              "      <td>1007.6</td>\n",
              "      <td>1008.7</td>\n",
              "      <td>4.412041</td>\n",
              "      <td>2.000000</td>\n",
              "      <td>21.0</td>\n",
              "      <td>23.2</td>\n",
              "      <td>0</td>\n",
              "      <td>0</td>\n",
              "    </tr>\n",
              "    <tr>\n",
              "      <th>1</th>\n",
              "      <td>Albury</td>\n",
              "      <td>9.2</td>\n",
              "      <td>28.0</td>\n",
              "      <td>0.0</td>\n",
              "      <td>5.489715</td>\n",
              "      <td>7.647831</td>\n",
              "      <td>NE</td>\n",
              "      <td>24.0</td>\n",
              "      <td>SE</td>\n",
              "      <td>E</td>\n",
              "      <td>...</td>\n",
              "      <td>45.0</td>\n",
              "      <td>16.0</td>\n",
              "      <td>1017.6</td>\n",
              "      <td>1012.8</td>\n",
              "      <td>4.412041</td>\n",
              "      <td>4.466054</td>\n",
              "      <td>18.1</td>\n",
              "      <td>26.5</td>\n",
              "      <td>0</td>\n",
              "      <td>0</td>\n",
              "    </tr>\n",
              "    <tr>\n",
              "      <th>2</th>\n",
              "      <td>Albury</td>\n",
              "      <td>14.3</td>\n",
              "      <td>25.0</td>\n",
              "      <td>0.0</td>\n",
              "      <td>5.489715</td>\n",
              "      <td>7.647831</td>\n",
              "      <td>W</td>\n",
              "      <td>50.0</td>\n",
              "      <td>SW</td>\n",
              "      <td>W</td>\n",
              "      <td>...</td>\n",
              "      <td>49.0</td>\n",
              "      <td>19.0</td>\n",
              "      <td>1009.6</td>\n",
              "      <td>1008.2</td>\n",
              "      <td>1.000000</td>\n",
              "      <td>4.466054</td>\n",
              "      <td>18.1</td>\n",
              "      <td>24.6</td>\n",
              "      <td>0</td>\n",
              "      <td>0</td>\n",
              "    </tr>\n",
              "    <tr>\n",
              "      <th>3</th>\n",
              "      <td>Albury</td>\n",
              "      <td>9.7</td>\n",
              "      <td>31.9</td>\n",
              "      <td>0.0</td>\n",
              "      <td>5.489715</td>\n",
              "      <td>7.647831</td>\n",
              "      <td>NNW</td>\n",
              "      <td>80.0</td>\n",
              "      <td>SE</td>\n",
              "      <td>NW</td>\n",
              "      <td>...</td>\n",
              "      <td>42.0</td>\n",
              "      <td>9.0</td>\n",
              "      <td>1008.9</td>\n",
              "      <td>1003.6</td>\n",
              "      <td>4.412041</td>\n",
              "      <td>4.466054</td>\n",
              "      <td>18.3</td>\n",
              "      <td>30.2</td>\n",
              "      <td>0</td>\n",
              "      <td>0</td>\n",
              "    </tr>\n",
              "    <tr>\n",
              "      <th>4</th>\n",
              "      <td>Albury</td>\n",
              "      <td>15.9</td>\n",
              "      <td>18.6</td>\n",
              "      <td>15.6</td>\n",
              "      <td>5.489715</td>\n",
              "      <td>7.647831</td>\n",
              "      <td>W</td>\n",
              "      <td>61.0</td>\n",
              "      <td>NNW</td>\n",
              "      <td>NNW</td>\n",
              "      <td>...</td>\n",
              "      <td>76.0</td>\n",
              "      <td>93.0</td>\n",
              "      <td>994.3</td>\n",
              "      <td>993.0</td>\n",
              "      <td>8.000000</td>\n",
              "      <td>8.000000</td>\n",
              "      <td>17.4</td>\n",
              "      <td>15.8</td>\n",
              "      <td>1</td>\n",
              "      <td>1</td>\n",
              "    </tr>\n",
              "  </tbody>\n",
              "</table>\n",
              "<p>5 rows × 22 columns</p>\n",
              "</div>\n",
              "      <button class=\"colab-df-convert\" onclick=\"convertToInteractive('df-629c9575-3eea-4f90-9e20-d039dc8dcfe1')\"\n",
              "              title=\"Convert this dataframe to an interactive table.\"\n",
              "              style=\"display:none;\">\n",
              "        \n",
              "  <svg xmlns=\"http://www.w3.org/2000/svg\" height=\"24px\"viewBox=\"0 0 24 24\"\n",
              "       width=\"24px\">\n",
              "    <path d=\"M0 0h24v24H0V0z\" fill=\"none\"/>\n",
              "    <path d=\"M18.56 5.44l.94 2.06.94-2.06 2.06-.94-2.06-.94-.94-2.06-.94 2.06-2.06.94zm-11 1L8.5 8.5l.94-2.06 2.06-.94-2.06-.94L8.5 2.5l-.94 2.06-2.06.94zm10 10l.94 2.06.94-2.06 2.06-.94-2.06-.94-.94-2.06-.94 2.06-2.06.94z\"/><path d=\"M17.41 7.96l-1.37-1.37c-.4-.4-.92-.59-1.43-.59-.52 0-1.04.2-1.43.59L10.3 9.45l-7.72 7.72c-.78.78-.78 2.05 0 2.83L4 21.41c.39.39.9.59 1.41.59.51 0 1.02-.2 1.41-.59l7.78-7.78 2.81-2.81c.8-.78.8-2.07 0-2.86zM5.41 20L4 18.59l7.72-7.72 1.47 1.35L5.41 20z\"/>\n",
              "  </svg>\n",
              "      </button>\n",
              "      \n",
              "  <style>\n",
              "    .colab-df-container {\n",
              "      display:flex;\n",
              "      flex-wrap:wrap;\n",
              "      gap: 12px;\n",
              "    }\n",
              "\n",
              "    .colab-df-convert {\n",
              "      background-color: #E8F0FE;\n",
              "      border: none;\n",
              "      border-radius: 50%;\n",
              "      cursor: pointer;\n",
              "      display: none;\n",
              "      fill: #1967D2;\n",
              "      height: 32px;\n",
              "      padding: 0 0 0 0;\n",
              "      width: 32px;\n",
              "    }\n",
              "\n",
              "    .colab-df-convert:hover {\n",
              "      background-color: #E2EBFA;\n",
              "      box-shadow: 0px 1px 2px rgba(60, 64, 67, 0.3), 0px 1px 3px 1px rgba(60, 64, 67, 0.15);\n",
              "      fill: #174EA6;\n",
              "    }\n",
              "\n",
              "    [theme=dark] .colab-df-convert {\n",
              "      background-color: #3B4455;\n",
              "      fill: #D2E3FC;\n",
              "    }\n",
              "\n",
              "    [theme=dark] .colab-df-convert:hover {\n",
              "      background-color: #434B5C;\n",
              "      box-shadow: 0px 1px 3px 1px rgba(0, 0, 0, 0.15);\n",
              "      filter: drop-shadow(0px 1px 2px rgba(0, 0, 0, 0.3));\n",
              "      fill: #FFFFFF;\n",
              "    }\n",
              "  </style>\n",
              "\n",
              "      <script>\n",
              "        const buttonEl =\n",
              "          document.querySelector('#df-629c9575-3eea-4f90-9e20-d039dc8dcfe1 button.colab-df-convert');\n",
              "        buttonEl.style.display =\n",
              "          google.colab.kernel.accessAllowed ? 'block' : 'none';\n",
              "\n",
              "        async function convertToInteractive(key) {\n",
              "          const element = document.querySelector('#df-629c9575-3eea-4f90-9e20-d039dc8dcfe1');\n",
              "          const dataTable =\n",
              "            await google.colab.kernel.invokeFunction('convertToInteractive',\n",
              "                                                     [key], {});\n",
              "          if (!dataTable) return;\n",
              "\n",
              "          const docLinkHtml = 'Like what you see? Visit the ' +\n",
              "            '<a target=\"_blank\" href=https://colab.research.google.com/notebooks/data_table.ipynb>data table notebook</a>'\n",
              "            + ' to learn more about interactive tables.';\n",
              "          element.innerHTML = '';\n",
              "          dataTable['output_type'] = 'display_data';\n",
              "          await google.colab.output.renderOutput(dataTable, element);\n",
              "          const docLink = document.createElement('div');\n",
              "          docLink.innerHTML = docLinkHtml;\n",
              "          element.appendChild(docLink);\n",
              "        }\n",
              "      </script>\n",
              "    </div>\n",
              "  </div>\n",
              "  "
            ]
          },
          "metadata": {}
        }
      ]
    },
    {
      "cell_type": "code",
      "source": "data.columns",
      "metadata": {
        "id": "C-7Fvgz1119O",
        "colab": {
          "base_uri": "https://localhost:8080/"
        },
        "outputId": "1fc82de5-2d71-42d7-95d0-7e8aa0abaecd"
      },
      "execution_count": null,
      "outputs": [
        {
          "output_type": "execute_result",
          "execution_count": 2,
          "data": {
            "text/plain": [
              "Index(['Location', 'MinTemp', 'MaxTemp', 'Rainfall', 'Evaporation', 'Sunshine',\n",
              "       'WindGustDir', 'WindGustSpeed', 'WindDir9am', 'WindDir3pm',\n",
              "       'WindSpeed9am', 'WindSpeed3pm', 'Humidity9am', 'Humidity3pm',\n",
              "       'Pressure9am', 'Pressure3pm', 'Cloud9am', 'Cloud3pm', 'Temp9am',\n",
              "       'Temp3pm', 'RainToday', 'Predict-RainTomorrow'],\n",
              "      dtype='object')"
            ]
          },
          "metadata": {}
        }
      ]
    },
    {
      "cell_type": "code",
      "source": "#Label Encoder library used to convert catagorical data into numeric\n# by encoding every category with a specific number \nloc = le.fit_transform(data['Location'])\ndata.drop(\"Location\", axis=1)\ndata[\"Location\"] = loc\n\nwgd = le.fit_transform(data['WindGustDir'])\ndata.drop('WindGustDir', axis=1)\ndata['WindGustDir'] = wgd\n\nwd9 = le.fit_transform(data['WindDir9am'])\ndata.drop('WindDir9am', axis=1)\ndata['WindDir9am'] = wd9\n\nwd3 = le.fit_transform(data['WindDir3pm'])\ndata.drop('WindDir3pm', axis=1)\ndata['WindDir3pm'] = wd3\n\n\ndata.head()",
      "metadata": {
        "id": "2ESERNAk0p5w",
        "colab": {
          "base_uri": "https://localhost:8080/",
          "height": 317
        },
        "outputId": "8a0a3ec4-fa22-4b70-b5f6-ab915e3d6334"
      },
      "execution_count": null,
      "outputs": [
        {
          "output_type": "execute_result",
          "execution_count": 3,
          "data": {
            "text/plain": [
              "   Location  MinTemp  MaxTemp  Rainfall  Evaporation  Sunshine  WindGustDir  \\\n",
              "0         2     12.9     25.7       0.0     5.489715  7.647831           15   \n",
              "1         2      9.2     28.0       0.0     5.489715  7.647831            4   \n",
              "2         2     14.3     25.0       0.0     5.489715  7.647831           13   \n",
              "3         2      9.7     31.9       0.0     5.489715  7.647831            6   \n",
              "4         2     15.9     18.6      15.6     5.489715  7.647831           13   \n",
              "\n",
              "   WindGustSpeed  WindDir9am  WindDir3pm  ...  Humidity9am  Humidity3pm  \\\n",
              "0           46.0          13          15  ...         38.0         30.0   \n",
              "1           24.0           9           0  ...         45.0         16.0   \n",
              "2           50.0          12          13  ...         49.0         19.0   \n",
              "3           80.0           9           7  ...         42.0          9.0   \n",
              "4           61.0           6           6  ...         76.0         93.0   \n",
              "\n",
              "   Pressure9am  Pressure3pm  Cloud9am  Cloud3pm  Temp9am  Temp3pm  RainToday  \\\n",
              "0       1007.6       1008.7  4.412041  2.000000     21.0     23.2          0   \n",
              "1       1017.6       1012.8  4.412041  4.466054     18.1     26.5          0   \n",
              "2       1009.6       1008.2  1.000000  4.466054     18.1     24.6          0   \n",
              "3       1008.9       1003.6  4.412041  4.466054     18.3     30.2          0   \n",
              "4        994.3        993.0  8.000000  8.000000     17.4     15.8          1   \n",
              "\n",
              "   Predict-RainTomorrow  \n",
              "0                     0  \n",
              "1                     0  \n",
              "2                     0  \n",
              "3                     0  \n",
              "4                     1  \n",
              "\n",
              "[5 rows x 22 columns]"
            ],
            "text/html": [
              "\n",
              "  <div id=\"df-0407e3b2-c055-476b-b817-fab7cb52ec3e\">\n",
              "    <div class=\"colab-df-container\">\n",
              "      <div>\n",
              "<style scoped>\n",
              "    .dataframe tbody tr th:only-of-type {\n",
              "        vertical-align: middle;\n",
              "    }\n",
              "\n",
              "    .dataframe tbody tr th {\n",
              "        vertical-align: top;\n",
              "    }\n",
              "\n",
              "    .dataframe thead th {\n",
              "        text-align: right;\n",
              "    }\n",
              "</style>\n",
              "<table border=\"1\" class=\"dataframe\">\n",
              "  <thead>\n",
              "    <tr style=\"text-align: right;\">\n",
              "      <th></th>\n",
              "      <th>Location</th>\n",
              "      <th>MinTemp</th>\n",
              "      <th>MaxTemp</th>\n",
              "      <th>Rainfall</th>\n",
              "      <th>Evaporation</th>\n",
              "      <th>Sunshine</th>\n",
              "      <th>WindGustDir</th>\n",
              "      <th>WindGustSpeed</th>\n",
              "      <th>WindDir9am</th>\n",
              "      <th>WindDir3pm</th>\n",
              "      <th>...</th>\n",
              "      <th>Humidity9am</th>\n",
              "      <th>Humidity3pm</th>\n",
              "      <th>Pressure9am</th>\n",
              "      <th>Pressure3pm</th>\n",
              "      <th>Cloud9am</th>\n",
              "      <th>Cloud3pm</th>\n",
              "      <th>Temp9am</th>\n",
              "      <th>Temp3pm</th>\n",
              "      <th>RainToday</th>\n",
              "      <th>Predict-RainTomorrow</th>\n",
              "    </tr>\n",
              "  </thead>\n",
              "  <tbody>\n",
              "    <tr>\n",
              "      <th>0</th>\n",
              "      <td>2</td>\n",
              "      <td>12.9</td>\n",
              "      <td>25.7</td>\n",
              "      <td>0.0</td>\n",
              "      <td>5.489715</td>\n",
              "      <td>7.647831</td>\n",
              "      <td>15</td>\n",
              "      <td>46.0</td>\n",
              "      <td>13</td>\n",
              "      <td>15</td>\n",
              "      <td>...</td>\n",
              "      <td>38.0</td>\n",
              "      <td>30.0</td>\n",
              "      <td>1007.6</td>\n",
              "      <td>1008.7</td>\n",
              "      <td>4.412041</td>\n",
              "      <td>2.000000</td>\n",
              "      <td>21.0</td>\n",
              "      <td>23.2</td>\n",
              "      <td>0</td>\n",
              "      <td>0</td>\n",
              "    </tr>\n",
              "    <tr>\n",
              "      <th>1</th>\n",
              "      <td>2</td>\n",
              "      <td>9.2</td>\n",
              "      <td>28.0</td>\n",
              "      <td>0.0</td>\n",
              "      <td>5.489715</td>\n",
              "      <td>7.647831</td>\n",
              "      <td>4</td>\n",
              "      <td>24.0</td>\n",
              "      <td>9</td>\n",
              "      <td>0</td>\n",
              "      <td>...</td>\n",
              "      <td>45.0</td>\n",
              "      <td>16.0</td>\n",
              "      <td>1017.6</td>\n",
              "      <td>1012.8</td>\n",
              "      <td>4.412041</td>\n",
              "      <td>4.466054</td>\n",
              "      <td>18.1</td>\n",
              "      <td>26.5</td>\n",
              "      <td>0</td>\n",
              "      <td>0</td>\n",
              "    </tr>\n",
              "    <tr>\n",
              "      <th>2</th>\n",
              "      <td>2</td>\n",
              "      <td>14.3</td>\n",
              "      <td>25.0</td>\n",
              "      <td>0.0</td>\n",
              "      <td>5.489715</td>\n",
              "      <td>7.647831</td>\n",
              "      <td>13</td>\n",
              "      <td>50.0</td>\n",
              "      <td>12</td>\n",
              "      <td>13</td>\n",
              "      <td>...</td>\n",
              "      <td>49.0</td>\n",
              "      <td>19.0</td>\n",
              "      <td>1009.6</td>\n",
              "      <td>1008.2</td>\n",
              "      <td>1.000000</td>\n",
              "      <td>4.466054</td>\n",
              "      <td>18.1</td>\n",
              "      <td>24.6</td>\n",
              "      <td>0</td>\n",
              "      <td>0</td>\n",
              "    </tr>\n",
              "    <tr>\n",
              "      <th>3</th>\n",
              "      <td>2</td>\n",
              "      <td>9.7</td>\n",
              "      <td>31.9</td>\n",
              "      <td>0.0</td>\n",
              "      <td>5.489715</td>\n",
              "      <td>7.647831</td>\n",
              "      <td>6</td>\n",
              "      <td>80.0</td>\n",
              "      <td>9</td>\n",
              "      <td>7</td>\n",
              "      <td>...</td>\n",
              "      <td>42.0</td>\n",
              "      <td>9.0</td>\n",
              "      <td>1008.9</td>\n",
              "      <td>1003.6</td>\n",
              "      <td>4.412041</td>\n",
              "      <td>4.466054</td>\n",
              "      <td>18.3</td>\n",
              "      <td>30.2</td>\n",
              "      <td>0</td>\n",
              "      <td>0</td>\n",
              "    </tr>\n",
              "    <tr>\n",
              "      <th>4</th>\n",
              "      <td>2</td>\n",
              "      <td>15.9</td>\n",
              "      <td>18.6</td>\n",
              "      <td>15.6</td>\n",
              "      <td>5.489715</td>\n",
              "      <td>7.647831</td>\n",
              "      <td>13</td>\n",
              "      <td>61.0</td>\n",
              "      <td>6</td>\n",
              "      <td>6</td>\n",
              "      <td>...</td>\n",
              "      <td>76.0</td>\n",
              "      <td>93.0</td>\n",
              "      <td>994.3</td>\n",
              "      <td>993.0</td>\n",
              "      <td>8.000000</td>\n",
              "      <td>8.000000</td>\n",
              "      <td>17.4</td>\n",
              "      <td>15.8</td>\n",
              "      <td>1</td>\n",
              "      <td>1</td>\n",
              "    </tr>\n",
              "  </tbody>\n",
              "</table>\n",
              "<p>5 rows × 22 columns</p>\n",
              "</div>\n",
              "      <button class=\"colab-df-convert\" onclick=\"convertToInteractive('df-0407e3b2-c055-476b-b817-fab7cb52ec3e')\"\n",
              "              title=\"Convert this dataframe to an interactive table.\"\n",
              "              style=\"display:none;\">\n",
              "        \n",
              "  <svg xmlns=\"http://www.w3.org/2000/svg\" height=\"24px\"viewBox=\"0 0 24 24\"\n",
              "       width=\"24px\">\n",
              "    <path d=\"M0 0h24v24H0V0z\" fill=\"none\"/>\n",
              "    <path d=\"M18.56 5.44l.94 2.06.94-2.06 2.06-.94-2.06-.94-.94-2.06-.94 2.06-2.06.94zm-11 1L8.5 8.5l.94-2.06 2.06-.94-2.06-.94L8.5 2.5l-.94 2.06-2.06.94zm10 10l.94 2.06.94-2.06 2.06-.94-2.06-.94-.94-2.06-.94 2.06-2.06.94z\"/><path d=\"M17.41 7.96l-1.37-1.37c-.4-.4-.92-.59-1.43-.59-.52 0-1.04.2-1.43.59L10.3 9.45l-7.72 7.72c-.78.78-.78 2.05 0 2.83L4 21.41c.39.39.9.59 1.41.59.51 0 1.02-.2 1.41-.59l7.78-7.78 2.81-2.81c.8-.78.8-2.07 0-2.86zM5.41 20L4 18.59l7.72-7.72 1.47 1.35L5.41 20z\"/>\n",
              "  </svg>\n",
              "      </button>\n",
              "      \n",
              "  <style>\n",
              "    .colab-df-container {\n",
              "      display:flex;\n",
              "      flex-wrap:wrap;\n",
              "      gap: 12px;\n",
              "    }\n",
              "\n",
              "    .colab-df-convert {\n",
              "      background-color: #E8F0FE;\n",
              "      border: none;\n",
              "      border-radius: 50%;\n",
              "      cursor: pointer;\n",
              "      display: none;\n",
              "      fill: #1967D2;\n",
              "      height: 32px;\n",
              "      padding: 0 0 0 0;\n",
              "      width: 32px;\n",
              "    }\n",
              "\n",
              "    .colab-df-convert:hover {\n",
              "      background-color: #E2EBFA;\n",
              "      box-shadow: 0px 1px 2px rgba(60, 64, 67, 0.3), 0px 1px 3px 1px rgba(60, 64, 67, 0.15);\n",
              "      fill: #174EA6;\n",
              "    }\n",
              "\n",
              "    [theme=dark] .colab-df-convert {\n",
              "      background-color: #3B4455;\n",
              "      fill: #D2E3FC;\n",
              "    }\n",
              "\n",
              "    [theme=dark] .colab-df-convert:hover {\n",
              "      background-color: #434B5C;\n",
              "      box-shadow: 0px 1px 3px 1px rgba(0, 0, 0, 0.15);\n",
              "      filter: drop-shadow(0px 1px 2px rgba(0, 0, 0, 0.3));\n",
              "      fill: #FFFFFF;\n",
              "    }\n",
              "  </style>\n",
              "\n",
              "      <script>\n",
              "        const buttonEl =\n",
              "          document.querySelector('#df-0407e3b2-c055-476b-b817-fab7cb52ec3e button.colab-df-convert');\n",
              "        buttonEl.style.display =\n",
              "          google.colab.kernel.accessAllowed ? 'block' : 'none';\n",
              "\n",
              "        async function convertToInteractive(key) {\n",
              "          const element = document.querySelector('#df-0407e3b2-c055-476b-b817-fab7cb52ec3e');\n",
              "          const dataTable =\n",
              "            await google.colab.kernel.invokeFunction('convertToInteractive',\n",
              "                                                     [key], {});\n",
              "          if (!dataTable) return;\n",
              "\n",
              "          const docLinkHtml = 'Like what you see? Visit the ' +\n",
              "            '<a target=\"_blank\" href=https://colab.research.google.com/notebooks/data_table.ipynb>data table notebook</a>'\n",
              "            + ' to learn more about interactive tables.';\n",
              "          element.innerHTML = '';\n",
              "          dataTable['output_type'] = 'display_data';\n",
              "          await google.colab.output.renderOutput(dataTable, element);\n",
              "          const docLink = document.createElement('div');\n",
              "          docLink.innerHTML = docLinkHtml;\n",
              "          element.appendChild(docLink);\n",
              "        }\n",
              "      </script>\n",
              "    </div>\n",
              "  </div>\n",
              "  "
            ]
          },
          "metadata": {}
        }
      ]
    },
    {
      "cell_type": "code",
      "source": "#Spliting data for train/test\ny = data['Predict-RainTomorrow']\nx = data.drop('Predict-RainTomorrow', axis = 1)\n\ntrain_x, test_x, train_y, test_y = tts(x, y, random_state=7)",
      "metadata": {
        "id": "wfW0miggw-Vl"
      },
      "execution_count": null,
      "outputs": []
    },
    {
      "cell_type": "code",
      "source": "#Display Splited data\nvisualizer = ClassBalance(labels=['Yes', 'No'])\nvisualizer.fit(train_y, test_y)\nvisualizer.poof()",
      "metadata": {
        "id": "S-eDBN9aEdbB",
        "colab": {
          "base_uri": "https://localhost:8080/",
          "height": 379
        },
        "outputId": "0f3b00e2-af0f-40ac-f94d-716cd7eb7886"
      },
      "execution_count": null,
      "outputs": [
        {
          "output_type": "display_data",
          "data": {
            "text/plain": [
              "<Figure size 576x396 with 1 Axes>"
            ],
            "image/png": "[encoded data removed]"
          },
          "metadata": {}
        },
        {
          "output_type": "execute_result",
          "execution_count": 5,
          "data": {
            "text/plain": [
              "<matplotlib.axes._subplots.AxesSubplot at 0x7fa593c02fa0>"
            ]
          },
          "metadata": {}
        }
      ]
    },
    {
      "cell_type": "code",
      "source": "#Random Forest Implementation\nfrom sklearn.ensemble import RandomForestClassifier as RF\n\n#Train Model\nmodel = RF(random_state = 7, n_estimators = 100)\nmodel.fit(train_x, train_y)",
      "metadata": {
        "id": "B03ShfL3xi9T",
        "colab": {
          "base_uri": "https://localhost:8080/"
        },
        "outputId": "12477bba-7e08-447d-e6e9-4a6591464e8d"
      },
      "execution_count": null,
      "outputs": [
        {
          "output_type": "execute_result",
          "execution_count": 6,
          "data": {
            "text/plain": [
              "RandomForestClassifier(random_state=7)"
            ]
          },
          "metadata": {}
        }
      ]
    },
    {
      "cell_type": "code",
      "source": "predicted_RF = model.predict(test_x)\nprint(\"Accuracy with Random Forest: \", metrics.accuracy_score(test_y, predicted_RF))",
      "metadata": {
        "id": "xR7DznTV3Ew8",
        "colab": {
          "base_uri": "https://localhost:8080/"
        },
        "outputId": "73e62e9c-4d20-457b-c481-6e688237efde"
      },
      "execution_count": null,
      "outputs": [
        {
          "output_type": "stream",
          "name": "stdout",
          "text": "Accuracy with Random Forest:  0.9698949162169838\n"
        }
      ]
    },
    {
      "cell_type": "code",
      "source": "print(metrics.confusion_matrix(test_y, predicted_RF))",
      "metadata": {
        "id": "CMmPOnYd3dD0",
        "colab": {
          "base_uri": "https://localhost:8080/"
        },
        "outputId": "75eb102a-7c0e-44cf-fc7a-58f90835886c"
      },
      "execution_count": null,
      "outputs": [
        {
          "output_type": "stream",
          "name": "stdout",
          "text": "[[8911   94]\n\n [ 224 1334]]\n"
        }
      ]
    },
    {
      "cell_type": "code",
      "source": "#KNN Implementation\nfrom sklearn.neighbors import KNeighborsClassifier as KNN\n\n# Train the model\nmodel = KNN()\nmodel.fit(train_x,train_y)\n\n#Predict Output\npredicted_KNN= model.predict(test_x)\nprint(\"Accuracy of KNN: \", metrics.accuracy_score(test_y, predicted_KNN))",
      "metadata": {
        "id": "RkodVsUKWY1b",
        "colab": {
          "base_uri": "https://localhost:8080/"
        },
        "outputId": "12573864-a531-4666-95c4-1abbc0fe7b56"
      },
      "execution_count": null,
      "outputs": [
        {
          "output_type": "stream",
          "name": "stdout",
          "text": "Accuracy of KNN:  0.9532329830540566\n"
        }
      ]
    },
    {
      "cell_type": "code",
      "source": "print(metrics.confusion_matrix(test_y, predicted_KNN))",
      "metadata": {
        "id": "G2rhqsAtXRs-",
        "colab": {
          "base_uri": "https://localhost:8080/"
        },
        "outputId": "49f26462-24d6-45b3-9288-f4a3784c679e"
      },
      "execution_count": null,
      "outputs": [
        {
          "output_type": "stream",
          "name": "stdout",
          "text": "[[8853  152]\n\n [ 342 1216]]\n"
        }
      ]
    },
    {
      "cell_type": "code",
      "source": "#Implementing SVC\nfrom sklearn.svm import SVC\n\n#Train the model\nmodel = SVC(random_state=7)\nmodel.fit(train_x, train_y)\n\n#Predict Output\npredicted_svc = model.predict(test_x)\nprint(\"Accuracy of SVC: \", metrics.accuracy_score(test_y, predicted_svc))",
      "metadata": {
        "id": "pd7nLPNtHlKa",
        "colab": {
          "base_uri": "https://localhost:8080/"
        },
        "outputId": "c11bb377-e23f-42c5-ff54-18ac09bdeb6c"
      },
      "execution_count": null,
      "outputs": [
        {
          "output_type": "stream",
          "name": "stdout",
          "text": "Accuracy of SVC:  0.9342042980213955\n"
        }
      ]
    },
    {
      "cell_type": "code",
      "source": "print(metrics.confusion_matrix(test_y, predicted_svc))",
      "metadata": {
        "id": "9QAHKVQyKEiX",
        "colab": {
          "base_uri": "https://localhost:8080/"
        },
        "outputId": "6992594b-3945-48cd-dbb3-59488fec61a4"
      },
      "execution_count": null,
      "outputs": [
        {
          "output_type": "stream",
          "name": "stdout",
          "text": "[[8955   50]\n\n [ 645  913]]\n"
        }
      ]
    },
    {
      "cell_type": "code",
      "source": "#Display Bar-Chart to compare accuracies of algorithms\nfig = plt.figure(figsize=(5, 5))\nplt.bar(['Random Forest', 'KNN', 'SVC'], \n        [metrics.accuracy_score(test_y, predicted_RF)*100, metrics.accuracy_score(test_y, predicted_KNN)*100, metrics.accuracy_score(test_y, predicted_svc)*100], \n        color = 'green', \n        width = 0.2\n        )\n#x-axis label\nplt.xlabel('Algorithms')\n#y-axis label\nplt.ylabel('Accuracy')\n#Title of Figure\nplt.title(\"Accuracies if Implemented Algorithms\")\nplt.show()",
      "metadata": {
        "id": "QIVgfoeQLDTB",
        "colab": {
          "base_uri": "https://localhost:8080/",
          "height": 349
        },
        "outputId": "f681f5b9-1780-4b9b-9d08-6b98621e9459"
      },
      "execution_count": null,
      "outputs": [
        {
          "output_type": "display_data",
          "data": {
            "text/plain": [
              "<Figure size 360x360 with 1 Axes>"
            ],
            "image/png": "[encoded data removed]"
          },
          "metadata": {}
        }
      ]
    }
  ]
}